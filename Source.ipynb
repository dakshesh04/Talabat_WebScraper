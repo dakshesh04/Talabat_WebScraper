{
 "cells": [
  {
   "cell_type": "code",
   "execution_count": 20,
   "metadata": {},
   "outputs": [],
   "source": [
    "from bs4 import BeautifulSoup as bs\n",
    "import requests\n",
    "import json\n",
    "import pandas as pd\n",
    "import csv "
   ]
  },
  {
   "cell_type": "code",
   "execution_count": 21,
   "metadata": {},
   "outputs": [],
   "source": [
    "def load_data(title):\n",
    "    with open(title, encoding = 'utf-8') as f:\n",
    "        return json.load(f)\n",
    "\n",
    "def save_data(title, data):\n",
    "    with open(title, 'a', encoding = 'utf-8') as f:\n",
    "        json.dump(data, f, ensure_ascii = False, indent=2)\n"
   ]
  },
  {
   "cell_type": "code",
   "execution_count": 35,
   "metadata": {},
   "outputs": [],
   "source": [
    "def menu_details(r):\n",
    "    \n",
    "    items_name = []\n",
    "    items_des = []\n",
    "    items_price = []\n",
    "    items_logo = []\n",
    "    R_info_list = load_data(\"menu.json\") # load data\n",
    "    page = R_info_list['pageProps']\n",
    "    menu_state = page['initialMenuState']\n",
    "    menu = menu_state['menuData']\n",
    "    items = menu['items']\n",
    "    for index,i in enumerate(items):\n",
    "        items_name.append(i['name'])\n",
    "        items_des.append(i['description'])\n",
    "        items_price.append(i['price'])\n",
    "        items_logo.append(i['image'])\n",
    "    \n",
    "    # Setting the details into a dataframe\n",
    "    df1 = (pd.DataFrame(items_name)).transpose()\n",
    "    df2 = (pd.DataFrame(items_des)).transpose()\n",
    "    df3 = (pd.DataFrame(items_price)).transpose()\n",
    "    df4 = (pd.DataFrame(items_logo)).transpose()\n",
    "    df = df1.append(df2)\n",
    "    df = df.append(df3)\n",
    "    df = df.append(df4)\n",
    "    df = df.transpose()  \n",
    "   \n",
    "    \n",
    "    # saving the details to json file\n",
    "    save_data('menu_list.json',r) # Restaurant's name\n",
    "    save_data('menu_list.json',items_name)\n",
    "    save_data('menu_list.json',items_des)\n",
    "    save_data('menu_list.json',items_price)\n",
    "    save_data('menu_list.json',items_logo)\n",
    "    return df\n",
    "    \n",
    "    \n",
    "def restaurant_details():\n",
    "    Rest_details = {}\n",
    "    R_info_list = load_data(\"menu.json\") # load data\n",
    "    page = R_info_list['pageProps']\n",
    "    event = page['gtmEventData']\n",
    "    rest = event['restaurant']\n",
    "    Rest_details['name'] = rest['name']\n",
    "    Rest_details['logo'] = rest['logo']\n",
    "    Rest_details['latitude']= rest['latitude']\n",
    "    Rest_details['longitude'] = rest['longitude']\n",
    "    Rest_details['cuisine_tags'] = rest['cuisineString']\n",
    "    csv_writer.writerow([Rest_details['name'],Rest_details['logo'],Rest_details['latitude'],Rest_details['longitude'],Rest_details['cuisine_tags']])\n",
    "    save_data('Restaurant.json',Rest_details)\n",
    "    return Rest_details['name']\n",
    "  \n",
    "\n",
    "\n",
    "\n"
   ]
  },
  {
   "cell_type": "code",
   "execution_count": 37,
   "metadata": {
    "collapsed": true
   },
   "outputs": [
    {
     "name": "stdout",
     "output_type": "stream",
     "text": [
      "https://www.talabat.com/_next/data/0ec73ce4-edc7-45e4-a589-850f01f4a4d9/menu.json?aid=1308&countrySlug=uae&vertical=restaurant&branchId=621133\n",
      "https://www.talabat.com/_next/data/0ec73ce4-edc7-45e4-a589-850f01f4a4d9/menu.json?aid=1308&countrySlug=uae&vertical=restaurant&branchId=645430\n",
      "https://www.talabat.com/_next/data/0ec73ce4-edc7-45e4-a589-850f01f4a4d9/menu.json?aid=1308&countrySlug=uae&vertical=restaurant&branchId=50445\n",
      "https://www.talabat.com/_next/data/0ec73ce4-edc7-45e4-a589-850f01f4a4d9/menu.json?aid=1308&countrySlug=uae&vertical=restaurant&branchId=605052\n",
      "https://www.talabat.com/_next/data/0ec73ce4-edc7-45e4-a589-850f01f4a4d9/menu.json?aid=1308&countrySlug=uae&vertical=restaurant&branchId=621796\n"
     ]
    }
   ],
   "source": [
    "sample = load_data(\"sample.json\") # using sample data\n",
    "#sample = load_data(\"my_data.json\") # Experimental data -  used on running the second time\n",
    "csv_file = open('cms_scrape.csv','a')\n",
    "csv_writer = csv.writer(csv_file)\n",
    "csv_writer.writerow(['Name','Logo','Latitude','Longitude','Cuisine tags'])\n",
    "Data_F = pd.DataFrame()\n",
    "for s in sample:\n",
    "    \n",
    "    #print(s)\n",
    "    site = (s[8:]).split('/')\n",
    "    #print(site)\n",
    "    countrySlug = site[1]\n",
    "    vertical = site[2]\n",
    "    branchId = site[3]\n",
    "    payload = \"aid=1308&countrySlug=\"+countrySlug+\"&vertical=\"+vertical+\"&branchId=\"+branchId\n",
    "    url = \"https://www.talabat.com/_next/data/0ec73ce4-edc7-45e4-a589-850f01f4a4d9/menu.json?\"+payload\n",
    "    print(url)\n",
    "    r =requests.get(url)\n",
    "    menu = r.json()\n",
    "    with open(\"Menu.json\", 'w') as f:\n",
    "        json.dump(menu, f)\n",
    "    \n",
    "    R_name = restaurant_details()\n",
    "   \n",
    "    DF = menu_details(R_name)\n",
    "    Data_F = Data_F.append(DF)\n",
    " # saving the dataframe to csv\n",
    "Data_F.to_csv('menu_list.csv',encoding='utf-8')\n",
    "\n",
    "csv_file.close()\n",
    "csv_f2.close()\n",
    "    \n",
    "\n",
    "    \n",
    "    "
   ]
  }
 ],
 "metadata": {
  "kernelspec": {
   "display_name": "Python 3",
   "language": "python",
   "name": "python3"
  },
  "language_info": {
   "codemirror_mode": {
    "name": "ipython",
    "version": 3
   },
   "file_extension": ".py",
   "mimetype": "text/x-python",
   "name": "python",
   "nbconvert_exporter": "python",
   "pygments_lexer": "ipython3",
   "version": "3.8.3"
  }
 },
 "nbformat": 4,
 "nbformat_minor": 4
}
